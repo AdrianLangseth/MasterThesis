{
 "cells": [
  {
   "cell_type": "code",
   "execution_count": 1,
   "metadata": {
    "collapsed": true
   },
   "outputs": [],
   "source": [
    "import nltk\n",
    "import pandas as pd\n",
    "import numpy as np"
   ]
  },
  {
   "cell_type": "code",
   "execution_count": 2,
   "outputs": [],
   "source": [
    "df = pd.read_csv('data/raw_df/cropped_full_article_data.csv')"
   ],
   "metadata": {
    "collapsed": false,
    "pycharm": {
     "name": "#%%\n"
    }
   }
  },
  {
   "cell_type": "code",
   "execution_count": 3,
   "outputs": [],
   "source": [
    "df['body_word_count'] = df['body'].apply(lambda x: len(x.split(' ')) if pd.notna(x) else 0)"
   ],
   "metadata": {
    "collapsed": false,
    "pycharm": {
     "name": "#%%\n"
    }
   }
  },
  {
   "cell_type": "code",
   "execution_count": 10,
   "outputs": [
    {
     "data": {
      "text/plain": "                                         id  \\\n0  0000237424b8b48d35af5ae4218133373e1b2f0a   \n1  0002c5ed1c7df36d43e00eeb482b6fc3cf5a502b   \n2  0002e36a26b9442e15e31dc2a4dcdd761e9cc76d   \n3  00032ca744b786da3ef1d3c5215f2730da75e42b   \n4  000435a70d4a5e3b5b14b1f2023c0c886a62ba15   \n\n                                                 url  \\\n0   http://www.adressa.no/student/article1678246.ece   \n1  http://www.adressa.no/nyheter/trondheim/2017/0...   \n2  http://www.adressa.no/pluss/okonomi/2016/11/01...   \n3  http://www.adressa.no/pluss/kultur/2016/06/27/...   \n4  http://www.adressa.no/nyheter/kuriosa/article1...   \n\n                publishtime                                           title  \\\n0  2011-08-15T20:05:18.000Z                              Nå braker det løs!   \n1  2017-03-23T12:28:48.000Z          Lastebil rev ned bompengemast på Klett   \n2  2016-11-01T06:22:56.000Z                 - Vi er ganske sinte akkurat nå   \n3  2016-06-27T10:44:51.000Z  Standupkomiker skal gjøre operaen mer folkelig   \n4  2009-10-03T21:25:45.000Z                          Kler seg naken for vin   \n\n                                              teaser  \\\n0  De neste to ukene skal faddere vise nye studen...   \n1  En lastebil med lasteplanet oppe rev ned bompe...   \n2  Politkere og næringsliv i Trøndelag frykter ko...   \n3  Med en rykende fersk oversettelse er noen av l...   \n4  Spencer Tunick har fått 18.000 mennesker til å...   \n\n                                             heading  \\\n0  ['Nå braker det løs! -adressa.no', '3500 andun...   \n1  Lastebil rev ned bompengemast på Klett -adress...   \n2  ['- Dramatisk avgjørelse for næringslivet i Tr...   \n3  ['Operatalenter i lettfattelig La Bohème i Bjø...   \n4                 Kler seg naken for vin -adressa.no   \n\n                                                body  \\\n0  Saken oppdateres. Etter to rolige sommermånede...   \n1  Saken oppdateres. Bompengeportalen ved Cirkle-...   \n2  Luftfartsforum for Trondheim lufthavn, Værnes ...   \n3  For første gang siden 1950-tallet er operaklas...   \n4  Saken oppdateres. Det var miljøorganisasjonen ...   \n\n                                           locations category0  \\\n0                     sør-trøndelag,bergen,trondheim   student   \n1                                              viken   nyheter   \n2  værnes,rygge,sør-trøndelag,alicante,midt-norge...     pluss   \n3                  levanger,sverige,paris,stiklestad     pluss   \n4   mexico city,østerrike,sveits,barcelona,frankrike   nyheter   \n\n           category1  body_word_count  \n0                NaN              416  \n1  nyheter|trondheim              131  \n2      pluss|okonomi              490  \n3       pluss|kultur              667  \n4    nyheter|kuriosa               92  ",
      "text/html": "<div>\n<style scoped>\n    .dataframe tbody tr th:only-of-type {\n        vertical-align: middle;\n    }\n\n    .dataframe tbody tr th {\n        vertical-align: top;\n    }\n\n    .dataframe thead th {\n        text-align: right;\n    }\n</style>\n<table border=\"1\" class=\"dataframe\">\n  <thead>\n    <tr style=\"text-align: right;\">\n      <th></th>\n      <th>id</th>\n      <th>url</th>\n      <th>publishtime</th>\n      <th>title</th>\n      <th>teaser</th>\n      <th>heading</th>\n      <th>body</th>\n      <th>locations</th>\n      <th>category0</th>\n      <th>category1</th>\n      <th>body_word_count</th>\n    </tr>\n  </thead>\n  <tbody>\n    <tr>\n      <th>0</th>\n      <td>0000237424b8b48d35af5ae4218133373e1b2f0a</td>\n      <td>http://www.adressa.no/student/article1678246.ece</td>\n      <td>2011-08-15T20:05:18.000Z</td>\n      <td>Nå braker det løs!</td>\n      <td>De neste to ukene skal faddere vise nye studen...</td>\n      <td>['Nå braker det løs! -adressa.no', '3500 andun...</td>\n      <td>Saken oppdateres. Etter to rolige sommermånede...</td>\n      <td>sør-trøndelag,bergen,trondheim</td>\n      <td>student</td>\n      <td>NaN</td>\n      <td>416</td>\n    </tr>\n    <tr>\n      <th>1</th>\n      <td>0002c5ed1c7df36d43e00eeb482b6fc3cf5a502b</td>\n      <td>http://www.adressa.no/nyheter/trondheim/2017/0...</td>\n      <td>2017-03-23T12:28:48.000Z</td>\n      <td>Lastebil rev ned bompengemast på Klett</td>\n      <td>En lastebil med lasteplanet oppe rev ned bompe...</td>\n      <td>Lastebil rev ned bompengemast på Klett -adress...</td>\n      <td>Saken oppdateres. Bompengeportalen ved Cirkle-...</td>\n      <td>viken</td>\n      <td>nyheter</td>\n      <td>nyheter|trondheim</td>\n      <td>131</td>\n    </tr>\n    <tr>\n      <th>2</th>\n      <td>0002e36a26b9442e15e31dc2a4dcdd761e9cc76d</td>\n      <td>http://www.adressa.no/pluss/okonomi/2016/11/01...</td>\n      <td>2016-11-01T06:22:56.000Z</td>\n      <td>- Vi er ganske sinte akkurat nå</td>\n      <td>Politkere og næringsliv i Trøndelag frykter ko...</td>\n      <td>['- Dramatisk avgjørelse for næringslivet i Tr...</td>\n      <td>Luftfartsforum for Trondheim lufthavn, Værnes ...</td>\n      <td>værnes,rygge,sør-trøndelag,alicante,midt-norge...</td>\n      <td>pluss</td>\n      <td>pluss|okonomi</td>\n      <td>490</td>\n    </tr>\n    <tr>\n      <th>3</th>\n      <td>00032ca744b786da3ef1d3c5215f2730da75e42b</td>\n      <td>http://www.adressa.no/pluss/kultur/2016/06/27/...</td>\n      <td>2016-06-27T10:44:51.000Z</td>\n      <td>Standupkomiker skal gjøre operaen mer folkelig</td>\n      <td>Med en rykende fersk oversettelse er noen av l...</td>\n      <td>['Operatalenter i lettfattelig La Bohème i Bjø...</td>\n      <td>For første gang siden 1950-tallet er operaklas...</td>\n      <td>levanger,sverige,paris,stiklestad</td>\n      <td>pluss</td>\n      <td>pluss|kultur</td>\n      <td>667</td>\n    </tr>\n    <tr>\n      <th>4</th>\n      <td>000435a70d4a5e3b5b14b1f2023c0c886a62ba15</td>\n      <td>http://www.adressa.no/nyheter/kuriosa/article1...</td>\n      <td>2009-10-03T21:25:45.000Z</td>\n      <td>Kler seg naken for vin</td>\n      <td>Spencer Tunick har fått 18.000 mennesker til å...</td>\n      <td>Kler seg naken for vin -adressa.no</td>\n      <td>Saken oppdateres. Det var miljøorganisasjonen ...</td>\n      <td>mexico city,østerrike,sveits,barcelona,frankrike</td>\n      <td>nyheter</td>\n      <td>nyheter|kuriosa</td>\n      <td>92</td>\n    </tr>\n  </tbody>\n</table>\n</div>"
     },
     "execution_count": 10,
     "metadata": {},
     "output_type": "execute_result"
    }
   ],
   "source": [
    "df.head()\n"
   ],
   "metadata": {
    "collapsed": false,
    "pycharm": {
     "name": "#%%\n"
    }
   }
  },
  {
   "cell_type": "code",
   "execution_count": 12,
   "outputs": [],
   "source": [
    "df['body_sent_count'] = df['body'].apply(lambda x: len(nltk.sent_tokenize(x, language='norwegian')) if pd.notna(x) else 0)"
   ],
   "metadata": {
    "collapsed": false,
    "pycharm": {
     "name": "#%%\n"
    }
   }
  },
  {
   "cell_type": "code",
   "execution_count": 14,
   "outputs": [
    {
     "data": {
      "text/plain": "                                                                 0  \\\nid                        0000237424b8b48d35af5ae4218133373e1b2f0a   \nurl               http://www.adressa.no/student/article1678246.ece   \npublishtime                               2011-08-15T20:05:18.000Z   \ntitle                                           Nå braker det løs!   \nteaser           De neste to ukene skal faddere vise nye studen...   \nheading          ['Nå braker det løs! -adressa.no', '3500 andun...   \nbody             Saken oppdateres. Etter to rolige sommermånede...   \nlocations                           sør-trøndelag,bergen,trondheim   \ncategory0                                                  student   \ncategory1                                                      NaN   \nbody_word_count                                                416   \nbody_sent_count                                                 31   \n\n                                                                 1  \\\nid                        0002c5ed1c7df36d43e00eeb482b6fc3cf5a502b   \nurl              http://www.adressa.no/nyheter/trondheim/2017/0...   \npublishtime                               2017-03-23T12:28:48.000Z   \ntitle                       Lastebil rev ned bompengemast på Klett   \nteaser           En lastebil med lasteplanet oppe rev ned bompe...   \nheading          Lastebil rev ned bompengemast på Klett -adress...   \nbody             Saken oppdateres. Bompengeportalen ved Cirkle-...   \nlocations                                                    viken   \ncategory0                                                  nyheter   \ncategory1                                        nyheter|trondheim   \nbody_word_count                                                131   \nbody_sent_count                                                  9   \n\n                                                                 2  \\\nid                        0002e36a26b9442e15e31dc2a4dcdd761e9cc76d   \nurl              http://www.adressa.no/pluss/okonomi/2016/11/01...   \npublishtime                               2016-11-01T06:22:56.000Z   \ntitle                              - Vi er ganske sinte akkurat nå   \nteaser           Politkere og næringsliv i Trøndelag frykter ko...   \nheading          ['- Dramatisk avgjørelse for næringslivet i Tr...   \nbody             Luftfartsforum for Trondheim lufthavn, Værnes ...   \nlocations        værnes,rygge,sør-trøndelag,alicante,midt-norge...   \ncategory0                                                    pluss   \ncategory1                                            pluss|okonomi   \nbody_word_count                                                490   \nbody_sent_count                                                 27   \n\n                                                                 3  \\\nid                        00032ca744b786da3ef1d3c5215f2730da75e42b   \nurl              http://www.adressa.no/pluss/kultur/2016/06/27/...   \npublishtime                               2016-06-27T10:44:51.000Z   \ntitle               Standupkomiker skal gjøre operaen mer folkelig   \nteaser           Med en rykende fersk oversettelse er noen av l...   \nheading          ['Operatalenter i lettfattelig La Bohème i Bjø...   \nbody             For første gang siden 1950-tallet er operaklas...   \nlocations                        levanger,sverige,paris,stiklestad   \ncategory0                                                    pluss   \ncategory1                                             pluss|kultur   \nbody_word_count                                                667   \nbody_sent_count                                                 44   \n\n                                                                 4  \nid                        000435a70d4a5e3b5b14b1f2023c0c886a62ba15  \nurl              http://www.adressa.no/nyheter/kuriosa/article1...  \npublishtime                               2009-10-03T21:25:45.000Z  \ntitle                                       Kler seg naken for vin  \nteaser           Spencer Tunick har fått 18.000 mennesker til å...  \nheading                         Kler seg naken for vin -adressa.no  \nbody             Saken oppdateres. Det var miljøorganisasjonen ...  \nlocations         mexico city,østerrike,sveits,barcelona,frankrike  \ncategory0                                                  nyheter  \ncategory1                                          nyheter|kuriosa  \nbody_word_count                                                 92  \nbody_sent_count                                                  6  ",
      "text/html": "<div>\n<style scoped>\n    .dataframe tbody tr th:only-of-type {\n        vertical-align: middle;\n    }\n\n    .dataframe tbody tr th {\n        vertical-align: top;\n    }\n\n    .dataframe thead th {\n        text-align: right;\n    }\n</style>\n<table border=\"1\" class=\"dataframe\">\n  <thead>\n    <tr style=\"text-align: right;\">\n      <th></th>\n      <th>0</th>\n      <th>1</th>\n      <th>2</th>\n      <th>3</th>\n      <th>4</th>\n    </tr>\n  </thead>\n  <tbody>\n    <tr>\n      <th>id</th>\n      <td>0000237424b8b48d35af5ae4218133373e1b2f0a</td>\n      <td>0002c5ed1c7df36d43e00eeb482b6fc3cf5a502b</td>\n      <td>0002e36a26b9442e15e31dc2a4dcdd761e9cc76d</td>\n      <td>00032ca744b786da3ef1d3c5215f2730da75e42b</td>\n      <td>000435a70d4a5e3b5b14b1f2023c0c886a62ba15</td>\n    </tr>\n    <tr>\n      <th>url</th>\n      <td>http://www.adressa.no/student/article1678246.ece</td>\n      <td>http://www.adressa.no/nyheter/trondheim/2017/0...</td>\n      <td>http://www.adressa.no/pluss/okonomi/2016/11/01...</td>\n      <td>http://www.adressa.no/pluss/kultur/2016/06/27/...</td>\n      <td>http://www.adressa.no/nyheter/kuriosa/article1...</td>\n    </tr>\n    <tr>\n      <th>publishtime</th>\n      <td>2011-08-15T20:05:18.000Z</td>\n      <td>2017-03-23T12:28:48.000Z</td>\n      <td>2016-11-01T06:22:56.000Z</td>\n      <td>2016-06-27T10:44:51.000Z</td>\n      <td>2009-10-03T21:25:45.000Z</td>\n    </tr>\n    <tr>\n      <th>title</th>\n      <td>Nå braker det løs!</td>\n      <td>Lastebil rev ned bompengemast på Klett</td>\n      <td>- Vi er ganske sinte akkurat nå</td>\n      <td>Standupkomiker skal gjøre operaen mer folkelig</td>\n      <td>Kler seg naken for vin</td>\n    </tr>\n    <tr>\n      <th>teaser</th>\n      <td>De neste to ukene skal faddere vise nye studen...</td>\n      <td>En lastebil med lasteplanet oppe rev ned bompe...</td>\n      <td>Politkere og næringsliv i Trøndelag frykter ko...</td>\n      <td>Med en rykende fersk oversettelse er noen av l...</td>\n      <td>Spencer Tunick har fått 18.000 mennesker til å...</td>\n    </tr>\n    <tr>\n      <th>heading</th>\n      <td>['Nå braker det løs! -adressa.no', '3500 andun...</td>\n      <td>Lastebil rev ned bompengemast på Klett -adress...</td>\n      <td>['- Dramatisk avgjørelse for næringslivet i Tr...</td>\n      <td>['Operatalenter i lettfattelig La Bohème i Bjø...</td>\n      <td>Kler seg naken for vin -adressa.no</td>\n    </tr>\n    <tr>\n      <th>body</th>\n      <td>Saken oppdateres. Etter to rolige sommermånede...</td>\n      <td>Saken oppdateres. Bompengeportalen ved Cirkle-...</td>\n      <td>Luftfartsforum for Trondheim lufthavn, Værnes ...</td>\n      <td>For første gang siden 1950-tallet er operaklas...</td>\n      <td>Saken oppdateres. Det var miljøorganisasjonen ...</td>\n    </tr>\n    <tr>\n      <th>locations</th>\n      <td>sør-trøndelag,bergen,trondheim</td>\n      <td>viken</td>\n      <td>værnes,rygge,sør-trøndelag,alicante,midt-norge...</td>\n      <td>levanger,sverige,paris,stiklestad</td>\n      <td>mexico city,østerrike,sveits,barcelona,frankrike</td>\n    </tr>\n    <tr>\n      <th>category0</th>\n      <td>student</td>\n      <td>nyheter</td>\n      <td>pluss</td>\n      <td>pluss</td>\n      <td>nyheter</td>\n    </tr>\n    <tr>\n      <th>category1</th>\n      <td>NaN</td>\n      <td>nyheter|trondheim</td>\n      <td>pluss|okonomi</td>\n      <td>pluss|kultur</td>\n      <td>nyheter|kuriosa</td>\n    </tr>\n    <tr>\n      <th>body_word_count</th>\n      <td>416</td>\n      <td>131</td>\n      <td>490</td>\n      <td>667</td>\n      <td>92</td>\n    </tr>\n    <tr>\n      <th>body_sent_count</th>\n      <td>31</td>\n      <td>9</td>\n      <td>27</td>\n      <td>44</td>\n      <td>6</td>\n    </tr>\n  </tbody>\n</table>\n</div>"
     },
     "execution_count": 14,
     "metadata": {},
     "output_type": "execute_result"
    }
   ],
   "source": [
    "df.head().T"
   ],
   "metadata": {
    "collapsed": false,
    "pycharm": {
     "name": "#%%\n"
    }
   }
  },
  {
   "cell_type": "code",
   "execution_count": 19,
   "outputs": [
    {
     "data": {
      "text/plain": "                                             id  \\\n22     000fd9e1ee3153e955d5e64b35691d799189aa2d   \n43     002536e7cb357867c9d935353b3a3b046a6766fa   \n300    01137be4f1a533e85a5baa3296454371b0efcdf1   \n454    01a60b8da5325c5d7cacad69b16ed6fe7e780032   \n456    01a62aa0896cd83d3f95edbec46904dc58f843a5   \n...                                         ...   \n72882  fe7ccea2d8d3904955caec7c14fb81d3258a44d5   \n72941  feb5991ef4483bd3890edce58e5343a1df2cf4b9   \n72984  fed0ab3d2b31318f742ba695027d82a0ec7a4661   \n73040  fefc9a0b1707d8ece537c592992fcb739784258c   \n73044  feff2ea6d46855e55f9876b19bc8d32b65a2e326   \n\n                                                     url  \\\n22     http://www.adressa.no/pluss/meninger/2017/03/1...   \n43     http://www.adressa.no/pluss/meninger/2017/01/1...   \n300    http://www.adressa.no/kultur/tv/article635537.ece   \n454    http://www.adressa.no/pluss/meninger/2016/08/3...   \n456    http://www.adressa.no/tjenester/bildeserier/ar...   \n...                                                  ...   \n72882  http://www.adressa.no/tjenester/bildeserier/ar...   \n72941  http://www.adressa.no/meninger/kommentarer/swa...   \n72984  http://www.adressa.no/kamera/2013/10/22/Fv715-...   \n73040  http://www.adressa.no/nyheter/trondheim/articl...   \n73044  http://www.adressa.no/pluss/nyheter/2016/07/22...   \n\n                    publishtime  \\\n22     2017-03-10T21:55:26.000Z   \n43     2017-01-16T05:47:53.000Z   \n300    2006-03-19T21:15:55.000Z   \n454    2016-08-31T17:54:51.000Z   \n456    2005-11-07T09:24:52.000Z   \n...                         ...   \n72882  2008-07-18T06:00:55.000Z   \n72941  2015-10-23T19:32:15.000Z   \n72984  2013-10-22T12:41:10.000Z   \n73040  2014-04-17T16:27:37.000Z   \n73044  2016-07-22T08:44:38.000Z   \n\n                                                   title  \\\n22             «Publikum har endelig oppdaget Kosmorama»   \n43     Unge asylsøkere som forsvinner, er desperate o...   \n300                                   Dansende kjendiser   \n454    Forhistoriske kjønnsrollemønstre lever i beste...   \n456                                   Batteri Munkholmen   \n...                                                  ...   \n72882                          Et italiensk ferieparadis   \n72941  Lørdagskommentar: Jeg har fått verdens vanskel...   \n72984                                       Fv715, Momyr   \n73040                           Hvor er alle helter hen?   \n73044  Dette gjorde størst inntrykk på oss 22. juli 2011   \n\n                                                  teaser  \\\n22     Årets Kosmorama vil bli husket som utgaven da ...   \n43     Norges strenge asylpolitikk bryter med viktige...   \n300    I finalen av «Skal vi danse» stod det mellom K...   \n454    Guttene skal være tøffe og jentene pene. Vi få...   \n456       Etter 50 år kom kanonen tilbake på Munkholmen.   \n...                                                  ...   \n72882                                                NaN   \n72941  Jeg har fått verdens vanskeligste sak i fanget...   \n72984                                                NaN   \n73040  Mellom klokken 10 og 12 Skjærtorsdag var det i...   \n73044               22 personer på gata om 22.juli 2011.   \n\n                                                 heading body  locations  \\\n22                             Så kom folket -adressa.no  NaN        NaN   \n43     Unge, desperate og uten rettssikkerhet -adress...  NaN        NaN   \n300                       Dansende kjendiser -adressa.no  NaN        NaN   \n454                      Barndom i rosa tyll -adressa.no  NaN        NaN   \n456                       Batteri Munkholmen -adressa.no  NaN        NaN   \n...                                                  ...  ...        ...   \n72882              Et italiensk ferieparadis -adressa.no  NaN        NaN   \n72941              Dette endrer alt, faktisk -adressa.no  NaN        NaN   \n72984                           Fv715, Momyr -adressa.no  NaN        NaN   \n73040               Hvor er alle helter hen? -adressa.no  NaN  trondheim   \n73044  Dette gjorde størst inntrykk på oss 22. juli 2...  NaN        NaN   \n\n       category0              category1  body_word_count  body_sent_count  \n22         pluss         pluss|meninger                0                0  \n43         pluss         pluss|meninger                0                0  \n300       kultur              kultur|tv                0                0  \n454        pluss         pluss|meninger                0                0  \n456    tjenester  tjenester|bildeserier                0                0  \n...          ...                    ...              ...              ...  \n72882  tjenester  tjenester|bildeserier                0                0  \n72941   meninger   meninger|kommentarer                0                0  \n72984     kamera                    NaN                0                0  \n73040    nyheter      nyheter|trondheim                0                0  \n73044      pluss          pluss|nyheter                0                0  \n\n[1016 rows x 12 columns]",
      "text/html": "<div>\n<style scoped>\n    .dataframe tbody tr th:only-of-type {\n        vertical-align: middle;\n    }\n\n    .dataframe tbody tr th {\n        vertical-align: top;\n    }\n\n    .dataframe thead th {\n        text-align: right;\n    }\n</style>\n<table border=\"1\" class=\"dataframe\">\n  <thead>\n    <tr style=\"text-align: right;\">\n      <th></th>\n      <th>id</th>\n      <th>url</th>\n      <th>publishtime</th>\n      <th>title</th>\n      <th>teaser</th>\n      <th>heading</th>\n      <th>body</th>\n      <th>locations</th>\n      <th>category0</th>\n      <th>category1</th>\n      <th>body_word_count</th>\n      <th>body_sent_count</th>\n    </tr>\n  </thead>\n  <tbody>\n    <tr>\n      <th>22</th>\n      <td>000fd9e1ee3153e955d5e64b35691d799189aa2d</td>\n      <td>http://www.adressa.no/pluss/meninger/2017/03/1...</td>\n      <td>2017-03-10T21:55:26.000Z</td>\n      <td>«Publikum har endelig oppdaget Kosmorama»</td>\n      <td>Årets Kosmorama vil bli husket som utgaven da ...</td>\n      <td>Så kom folket -adressa.no</td>\n      <td>NaN</td>\n      <td>NaN</td>\n      <td>pluss</td>\n      <td>pluss|meninger</td>\n      <td>0</td>\n      <td>0</td>\n    </tr>\n    <tr>\n      <th>43</th>\n      <td>002536e7cb357867c9d935353b3a3b046a6766fa</td>\n      <td>http://www.adressa.no/pluss/meninger/2017/01/1...</td>\n      <td>2017-01-16T05:47:53.000Z</td>\n      <td>Unge asylsøkere som forsvinner, er desperate o...</td>\n      <td>Norges strenge asylpolitikk bryter med viktige...</td>\n      <td>Unge, desperate og uten rettssikkerhet -adress...</td>\n      <td>NaN</td>\n      <td>NaN</td>\n      <td>pluss</td>\n      <td>pluss|meninger</td>\n      <td>0</td>\n      <td>0</td>\n    </tr>\n    <tr>\n      <th>300</th>\n      <td>01137be4f1a533e85a5baa3296454371b0efcdf1</td>\n      <td>http://www.adressa.no/kultur/tv/article635537.ece</td>\n      <td>2006-03-19T21:15:55.000Z</td>\n      <td>Dansende kjendiser</td>\n      <td>I finalen av «Skal vi danse» stod det mellom K...</td>\n      <td>Dansende kjendiser -adressa.no</td>\n      <td>NaN</td>\n      <td>NaN</td>\n      <td>kultur</td>\n      <td>kultur|tv</td>\n      <td>0</td>\n      <td>0</td>\n    </tr>\n    <tr>\n      <th>454</th>\n      <td>01a60b8da5325c5d7cacad69b16ed6fe7e780032</td>\n      <td>http://www.adressa.no/pluss/meninger/2016/08/3...</td>\n      <td>2016-08-31T17:54:51.000Z</td>\n      <td>Forhistoriske kjønnsrollemønstre lever i beste...</td>\n      <td>Guttene skal være tøffe og jentene pene. Vi få...</td>\n      <td>Barndom i rosa tyll -adressa.no</td>\n      <td>NaN</td>\n      <td>NaN</td>\n      <td>pluss</td>\n      <td>pluss|meninger</td>\n      <td>0</td>\n      <td>0</td>\n    </tr>\n    <tr>\n      <th>456</th>\n      <td>01a62aa0896cd83d3f95edbec46904dc58f843a5</td>\n      <td>http://www.adressa.no/tjenester/bildeserier/ar...</td>\n      <td>2005-11-07T09:24:52.000Z</td>\n      <td>Batteri Munkholmen</td>\n      <td>Etter 50 år kom kanonen tilbake på Munkholmen.</td>\n      <td>Batteri Munkholmen -adressa.no</td>\n      <td>NaN</td>\n      <td>NaN</td>\n      <td>tjenester</td>\n      <td>tjenester|bildeserier</td>\n      <td>0</td>\n      <td>0</td>\n    </tr>\n    <tr>\n      <th>...</th>\n      <td>...</td>\n      <td>...</td>\n      <td>...</td>\n      <td>...</td>\n      <td>...</td>\n      <td>...</td>\n      <td>...</td>\n      <td>...</td>\n      <td>...</td>\n      <td>...</td>\n      <td>...</td>\n      <td>...</td>\n    </tr>\n    <tr>\n      <th>72882</th>\n      <td>fe7ccea2d8d3904955caec7c14fb81d3258a44d5</td>\n      <td>http://www.adressa.no/tjenester/bildeserier/ar...</td>\n      <td>2008-07-18T06:00:55.000Z</td>\n      <td>Et italiensk ferieparadis</td>\n      <td>NaN</td>\n      <td>Et italiensk ferieparadis -adressa.no</td>\n      <td>NaN</td>\n      <td>NaN</td>\n      <td>tjenester</td>\n      <td>tjenester|bildeserier</td>\n      <td>0</td>\n      <td>0</td>\n    </tr>\n    <tr>\n      <th>72941</th>\n      <td>feb5991ef4483bd3890edce58e5343a1df2cf4b9</td>\n      <td>http://www.adressa.no/meninger/kommentarer/swa...</td>\n      <td>2015-10-23T19:32:15.000Z</td>\n      <td>Lørdagskommentar: Jeg har fått verdens vanskel...</td>\n      <td>Jeg har fått verdens vanskeligste sak i fanget...</td>\n      <td>Dette endrer alt, faktisk -adressa.no</td>\n      <td>NaN</td>\n      <td>NaN</td>\n      <td>meninger</td>\n      <td>meninger|kommentarer</td>\n      <td>0</td>\n      <td>0</td>\n    </tr>\n    <tr>\n      <th>72984</th>\n      <td>fed0ab3d2b31318f742ba695027d82a0ec7a4661</td>\n      <td>http://www.adressa.no/kamera/2013/10/22/Fv715-...</td>\n      <td>2013-10-22T12:41:10.000Z</td>\n      <td>Fv715, Momyr</td>\n      <td>NaN</td>\n      <td>Fv715, Momyr -adressa.no</td>\n      <td>NaN</td>\n      <td>NaN</td>\n      <td>kamera</td>\n      <td>NaN</td>\n      <td>0</td>\n      <td>0</td>\n    </tr>\n    <tr>\n      <th>73040</th>\n      <td>fefc9a0b1707d8ece537c592992fcb739784258c</td>\n      <td>http://www.adressa.no/nyheter/trondheim/articl...</td>\n      <td>2014-04-17T16:27:37.000Z</td>\n      <td>Hvor er alle helter hen?</td>\n      <td>Mellom klokken 10 og 12 Skjærtorsdag var det i...</td>\n      <td>Hvor er alle helter hen? -adressa.no</td>\n      <td>NaN</td>\n      <td>trondheim</td>\n      <td>nyheter</td>\n      <td>nyheter|trondheim</td>\n      <td>0</td>\n      <td>0</td>\n    </tr>\n    <tr>\n      <th>73044</th>\n      <td>feff2ea6d46855e55f9876b19bc8d32b65a2e326</td>\n      <td>http://www.adressa.no/pluss/nyheter/2016/07/22...</td>\n      <td>2016-07-22T08:44:38.000Z</td>\n      <td>Dette gjorde størst inntrykk på oss 22. juli 2011</td>\n      <td>22 personer på gata om 22.juli 2011.</td>\n      <td>Dette gjorde størst inntrykk på oss 22. juli 2...</td>\n      <td>NaN</td>\n      <td>NaN</td>\n      <td>pluss</td>\n      <td>pluss|nyheter</td>\n      <td>0</td>\n      <td>0</td>\n    </tr>\n  </tbody>\n</table>\n<p>1016 rows × 12 columns</p>\n</div>"
     },
     "execution_count": 19,
     "metadata": {},
     "output_type": "execute_result"
    }
   ],
   "source": [
    "df.loc[(df['body_word_count'] == df['body_sent_count'])]"
   ],
   "metadata": {
    "collapsed": false,
    "pycharm": {
     "name": "#%%\n"
    }
   }
  },
  {
   "cell_type": "code",
   "execution_count": 22,
   "outputs": [
    {
     "data": {
      "text/plain": "0        416\n1        131\n2        490\n3        667\n4         92\n        ... \n73304    587\n73305    150\n73306    530\n73307    252\n73308    333\nName: body_word_count, Length: 73309, dtype: int64"
     },
     "execution_count": 22,
     "metadata": {},
     "output_type": "execute_result"
    }
   ],
   "source": [
    "df['body_word_count'].value_counts()\n"
   ],
   "metadata": {
    "collapsed": false,
    "pycharm": {
     "name": "#%%\n"
    }
   }
  },
  {
   "cell_type": "code",
   "execution_count": 21,
   "outputs": [
    {
     "data": {
      "text/plain": "10     2266\n9      2255\n11     2246\n8      2064\n12     2031\n       ... \n222       1\n239       1\n558       1\n231       1\n417       1\nName: body_sent_count, Length: 322, dtype: int64"
     },
     "execution_count": 21,
     "metadata": {},
     "output_type": "execute_result"
    }
   ],
   "source": [
    "df['body_sent_count'].value_counts()"
   ],
   "metadata": {
    "collapsed": false,
    "pycharm": {
     "name": "#%%\n"
    }
   }
  },
  {
   "cell_type": "code",
   "execution_count": 34,
   "outputs": [
    {
     "name": "stdout",
     "output_type": "stream",
     "text": [
      "Amount of occurrances of spaced heading  : 15681\n",
      "Amount of occurrances of saken oppdateres: 67554\n"
     ]
    }
   ],
   "source": [
    "a = sum(df[\"body\"].str.count(r'.\\s.\\s.\\s').apply(lambda x: bool(x) if pd.notna(x) else False))\n",
    "print(f'Amount of occurrances of spaced heading  : {a}')\n",
    "print(f'Amount of occurrances of saken oppdateres: {sum(list(map(lambda x: x.lower().startswith(\"saken oppdater\") if pd.notna(x) else False, df[\"body\"] )))}')"
   ],
   "metadata": {
    "collapsed": false,
    "pycharm": {
     "name": "#%%\n"
    }
   }
  },
  {
   "cell_type": "markdown",
   "source": [
    "### Need To remove the \"Saken oppdateres\". And must fix the spaced out headings."
   ],
   "metadata": {
    "collapsed": false
   }
  },
  {
   "cell_type": "code",
   "execution_count": 37,
   "outputs": [
    {
     "data": {
      "text/plain": "<AxesSubplot:>"
     },
     "execution_count": 37,
     "metadata": {},
     "output_type": "execute_result"
    },
    {
     "data": {
      "text/plain": "<Figure size 432x288 with 1 Axes>",
      "image/png": "[encoded data removed]"
     },
     "metadata": {
      "needs_background": "light"
     },
     "output_type": "display_data"
    }
   ],
   "source": [
    "df['body_sent_count'].value_counts().plot()"
   ],
   "metadata": {
    "collapsed": false,
    "pycharm": {
     "name": "#%%\n"
    }
   }
  },
  {
   "cell_type": "code",
   "execution_count": 38,
   "outputs": [
    {
     "data": {
      "text/plain": "<AxesSubplot:>"
     },
     "execution_count": 38,
     "metadata": {},
     "output_type": "execute_result"
    },
    {
     "data": {
      "text/plain": "<Figure size 432x288 with 1 Axes>",
      "image/png": "[encoded data removed]"
     },
     "metadata": {
      "needs_background": "light"
     },
     "output_type": "display_data"
    }
   ],
   "source": [
    "df['body_word_count'].value_counts().plot()"
   ],
   "metadata": {
    "collapsed": false,
    "pycharm": {
     "name": "#%%\n"
    }
   }
  },
  {
   "cell_type": "code",
   "execution_count": 39,
   "outputs": [
    {
     "data": {
      "text/plain": "15681"
     },
     "execution_count": 39,
     "metadata": {},
     "output_type": "execute_result"
    }
   ],
   "source": [
    "sum(df[\"body\"].str.count(r'.\\s.\\s.\\s').apply(lambda x: bool(x) if pd.notna(x) else False))"
   ],
   "metadata": {
    "collapsed": false,
    "pycharm": {
     "name": "#%%\n"
    }
   }
  },
  {
   "cell_type": "code",
   "execution_count": 40,
   "outputs": [
    {
     "data": {
      "text/plain": "0.9559944890804676"
     },
     "execution_count": 40,
     "metadata": {},
     "output_type": "execute_result"
    }
   ],
   "source": [
    "sum(df['body_word_count']<1000)/len(df['body_word_count'])"
   ],
   "metadata": {
    "collapsed": false,
    "pycharm": {
     "name": "#%%\n"
    }
   }
  },
  {
   "cell_type": "markdown",
   "source": [
    "Therefore we set max word count to 1000"
   ],
   "metadata": {
    "collapsed": false
   }
  },
  {
   "cell_type": "code",
   "execution_count": 49,
   "outputs": [
    {
     "data": {
      "text/plain": "0.9515475589627467"
     },
     "execution_count": 49,
     "metadata": {},
     "output_type": "execute_result"
    }
   ],
   "source": [
    "sum(df['body_sent_count']<66)/len(df['body_sent_count'])"
   ],
   "metadata": {
    "collapsed": false,
    "pycharm": {
     "name": "#%%\n"
    }
   }
  },
  {
   "cell_type": "code",
   "execution_count": null,
   "outputs": [],
   "source": [],
   "metadata": {
    "collapsed": false,
    "pycharm": {
     "name": "#%%\n"
    }
   }
  }
 ],
 "metadata": {
  "kernelspec": {
   "display_name": "Python 3",
   "language": "python",
   "name": "python3"
  },
  "language_info": {
   "codemirror_mode": {
    "name": "ipython",
    "version": 2
   },
   "file_extension": ".py",
   "mimetype": "text/x-python",
   "name": "python",
   "nbconvert_exporter": "python",
   "pygments_lexer": "ipython2",
   "version": "2.7.6"
  }
 },
 "nbformat": 4,
 "nbformat_minor": 0
}